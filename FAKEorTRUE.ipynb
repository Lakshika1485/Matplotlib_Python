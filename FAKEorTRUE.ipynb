{
 "cells": [
  {
   "cell_type": "code",
   "execution_count": 2,
   "id": "e5210526-08b8-439b-b747-5ccabdf05a76",
   "metadata": {},
   "outputs": [
    {
     "name": "stdin",
     "output_type": "stream",
     "text": [
      "📰 Enter a news headline:  World ends tomorrow\n"
     ]
    },
    {
     "name": "stdout",
     "output_type": "stream",
     "text": [
      " This news is: FAKE \n"
     ]
    }
   ],
   "source": [
    "from sklearn.feature_extraction.text import TfidfVectorizer\n",
    "from sklearn.linear_model import LogisticRegression\n",
    "\n",
    "# Sample training data (manually added)\n",
    "texts = [\n",
    "    \"NASA finds water on Mars\",\n",
    "    \"Apple launches new iPhone with AI\",\n",
    "    \"Aliens have landed in Delhi\",\n",
    "    \"Government bans all smartphones\",\n",
    "    \"COVID-19 vaccine approved worldwide\",\n",
    "    \"World ends tomorrow\",\n",
    "    \"Elon Musk buys the Moon\",\n",
    "    \"UN announces global peace treaty\",\n",
    "]\n",
    "labels = [\"REAL\", \"REAL\", \"FAKE\", \"FAKE\", \"REAL\", \"FAKE\", \"FAKE\", \"REAL\"]\n",
    "\n",
    "# Step 1: Preprocess\n",
    "vectorizer = TfidfVectorizer()\n",
    "X = vectorizer.fit_transform(texts)\n",
    "\n",
    "# Step 2: Train model\n",
    "model = LogisticRegression()\n",
    "model.fit(X, labels)\n",
    "\n",
    "# Step 3: Take input and predict\n",
    "headline = input(\"📰 Enter a news headline: \")\n",
    "headline_vec = vectorizer.transform([headline])\n",
    "prediction = model.predict(headline_vec)\n",
    "\n",
    "print(\" This news is:\", \"FAKE \" if prediction[0] == \"FAKE\" else \"REAL \")"
   ]
  },
  {
   "cell_type": "code",
   "execution_count": null,
   "id": "06c38632-ff7e-419d-abdb-aad20e50ec9d",
   "metadata": {},
   "outputs": [],
   "source": []
  }
 ],
 "metadata": {
  "kernelspec": {
   "display_name": "Python 3 (ipykernel)",
   "language": "python",
   "name": "python3"
  },
  "language_info": {
   "codemirror_mode": {
    "name": "ipython",
    "version": 3
   },
   "file_extension": ".py",
   "mimetype": "text/x-python",
   "name": "python",
   "nbconvert_exporter": "python",
   "pygments_lexer": "ipython3",
   "version": "3.12.4"
  }
 },
 "nbformat": 4,
 "nbformat_minor": 5
}
